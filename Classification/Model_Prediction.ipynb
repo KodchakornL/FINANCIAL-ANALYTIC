{
  "nbformat": 4,
  "nbformat_minor": 0,
  "metadata": {
    "colab": {
      "name": "Model Prediction.ipynb",
      "provenance": [],
      "collapsed_sections": [],
      "toc_visible": true
    },
    "kernelspec": {
      "name": "python3",
      "display_name": "Python 3"
    },
    "language_info": {
      "name": "python"
    }
  },
  "cells": [
    {
      "cell_type": "markdown",
      "metadata": {
        "id": "qxCVzyS-y88k"
      },
      "source": [
        "# **ModelPrediction**"
      ]
    },
    {
      "cell_type": "code",
      "execution_count": null,
      "metadata": {
        "id": "Nj6-aH19y89-"
      },
      "outputs": [],
      "source": [
        "#import library\n",
        "import numpy as np\n",
        "import pandas as pd\n",
        "import matplotlib.pyplot as plt\n",
        "import seaborn as sns\n",
        "\n",
        "from sklearn.model_selection import train_test_split, RandomizedSearchCV\n",
        "from sklearn.linear_model import LogisticRegression\n",
        "from sklearn.ensemble import RandomForestClassifier\n",
        "from sklearn.metrics import classification_report, accuracy_score, roc_auc_score, roc_curve, auc, f1_score, precision_recall_curve, recall_score, precision_score, confusion_matrix\n",
        "import tensorflow as tf\n",
        "from numpy import loadtxt\n",
        "from keras.models import Sequential\n",
        "from keras.layers import Dense\n",
        "\n",
        "from imblearn.over_sampling import SMOTE\n",
        "from imblearn.under_sampling import NearMiss\n",
        "\n",
        "import warnings\n",
        "warnings.filterwarnings('ignore')"
      ]
    },
    {
      "cell_type": "code",
      "source": [
        "from google.colab import drive\n",
        "drive.mount('/content/gdrive')"
      ],
      "metadata": {
        "colab": {
          "base_uri": "https://localhost:8080/"
        },
        "id": "9oFCEnN-0P8j",
        "outputId": "6a63cf1c-89fa-4d36-aa68-30556ff7f932"
      },
      "execution_count": null,
      "outputs": [
        {
          "output_type": "stream",
          "name": "stdout",
          "text": [
            "Drive already mounted at /content/gdrive; to attempt to forcibly remount, call drive.mount(\"/content/gdrive\", force_remount=True).\n"
          ]
        }
      ]
    },
    {
      "cell_type": "code",
      "execution_count": null,
      "metadata": {
        "colab": {
          "base_uri": "https://localhost:8080/",
          "height": 334
        },
        "id": "EI-gbgtNy8-D",
        "outputId": "8ceb39e7-0330-4528-e63b-a2b9f3da619f"
      },
      "outputs": [
        {
          "output_type": "execute_result",
          "data": {
            "text/plain": [
              "     NULL   LN_ID  TARGET CONTRACT_TYPE GENDER  NUM_CHILDREN    INCOME  \\\n",
              "0  102590  219092       0    Cash loans      M             3  135000.0   \n",
              "1   35895  141577       0    Cash loans      F             0  144000.0   \n",
              "2   69154  180205       0    Cash loans      F             1   90000.0   \n",
              "3  222185  357381       0    Cash loans      M             2  112500.0   \n",
              "4  102590  219092       0    Cash loans      M             3  135000.0   \n",
              "\n",
              "   APPROVED_CREDIT  ANNUITY     PRICE  ... DAYS_AGE DAYS_WORK  \\\n",
              "0         871029.0  44604.0  765000.0  ...   -17598     -2650   \n",
              "1         485640.0  34537.5  450000.0  ...   -14097     -7408   \n",
              "2         247500.0   8887.5  247500.0  ...   -18384     -2826   \n",
              "3         506889.0  24781.5  418500.0  ...   -12170      -926   \n",
              "4         871029.0  44604.0  765000.0  ...   -17598     -2650   \n",
              "\n",
              "  DAYS_REGISTRATION DAYS_ID_CHANGE  WEEKDAYS_APPLY  HOUR_APPLY  \\\n",
              "0             -1411          -1131        SATURDAY           7   \n",
              "1             -7908          -4872          MONDAY          14   \n",
              "2             -8226          -1930        SATURDAY          12   \n",
              "3              -916          -4048        THURSDAY          13   \n",
              "4             -1411          -1131        SATURDAY           7   \n",
              "\n",
              "        ORGANIZATION_TYPE  EXT_SCORE_1 EXT_SCORE_2  EXT_SCORE_3  \n",
              "0  Business Entity Type 3          NaN    0.145475     0.651260  \n",
              "1            Kindergarten          NaN    0.682675          NaN  \n",
              "2           Self-employed     0.814700    0.686312     0.758393  \n",
              "3                   Other     0.399219    0.266520     0.058826  \n",
              "4  Business Entity Type 3          NaN    0.145475     0.651260  \n",
              "\n",
              "[5 rows x 24 columns]"
            ],
            "text/html": [
              "\n",
              "  <div id=\"df-b2957a44-79aa-4d4a-be7e-c7893dc6714e\">\n",
              "    <div class=\"colab-df-container\">\n",
              "      <div>\n",
              "<style scoped>\n",
              "    .dataframe tbody tr th:only-of-type {\n",
              "        vertical-align: middle;\n",
              "    }\n",
              "\n",
              "    .dataframe tbody tr th {\n",
              "        vertical-align: top;\n",
              "    }\n",
              "\n",
              "    .dataframe thead th {\n",
              "        text-align: right;\n",
              "    }\n",
              "</style>\n",
              "<table border=\"1\" class=\"dataframe\">\n",
              "  <thead>\n",
              "    <tr style=\"text-align: right;\">\n",
              "      <th></th>\n",
              "      <th>NULL</th>\n",
              "      <th>LN_ID</th>\n",
              "      <th>TARGET</th>\n",
              "      <th>CONTRACT_TYPE</th>\n",
              "      <th>GENDER</th>\n",
              "      <th>NUM_CHILDREN</th>\n",
              "      <th>INCOME</th>\n",
              "      <th>APPROVED_CREDIT</th>\n",
              "      <th>ANNUITY</th>\n",
              "      <th>PRICE</th>\n",
              "      <th>...</th>\n",
              "      <th>DAYS_AGE</th>\n",
              "      <th>DAYS_WORK</th>\n",
              "      <th>DAYS_REGISTRATION</th>\n",
              "      <th>DAYS_ID_CHANGE</th>\n",
              "      <th>WEEKDAYS_APPLY</th>\n",
              "      <th>HOUR_APPLY</th>\n",
              "      <th>ORGANIZATION_TYPE</th>\n",
              "      <th>EXT_SCORE_1</th>\n",
              "      <th>EXT_SCORE_2</th>\n",
              "      <th>EXT_SCORE_3</th>\n",
              "    </tr>\n",
              "  </thead>\n",
              "  <tbody>\n",
              "    <tr>\n",
              "      <th>0</th>\n",
              "      <td>102590</td>\n",
              "      <td>219092</td>\n",
              "      <td>0</td>\n",
              "      <td>Cash loans</td>\n",
              "      <td>M</td>\n",
              "      <td>3</td>\n",
              "      <td>135000.0</td>\n",
              "      <td>871029.0</td>\n",
              "      <td>44604.0</td>\n",
              "      <td>765000.0</td>\n",
              "      <td>...</td>\n",
              "      <td>-17598</td>\n",
              "      <td>-2650</td>\n",
              "      <td>-1411</td>\n",
              "      <td>-1131</td>\n",
              "      <td>SATURDAY</td>\n",
              "      <td>7</td>\n",
              "      <td>Business Entity Type 3</td>\n",
              "      <td>NaN</td>\n",
              "      <td>0.145475</td>\n",
              "      <td>0.651260</td>\n",
              "    </tr>\n",
              "    <tr>\n",
              "      <th>1</th>\n",
              "      <td>35895</td>\n",
              "      <td>141577</td>\n",
              "      <td>0</td>\n",
              "      <td>Cash loans</td>\n",
              "      <td>F</td>\n",
              "      <td>0</td>\n",
              "      <td>144000.0</td>\n",
              "      <td>485640.0</td>\n",
              "      <td>34537.5</td>\n",
              "      <td>450000.0</td>\n",
              "      <td>...</td>\n",
              "      <td>-14097</td>\n",
              "      <td>-7408</td>\n",
              "      <td>-7908</td>\n",
              "      <td>-4872</td>\n",
              "      <td>MONDAY</td>\n",
              "      <td>14</td>\n",
              "      <td>Kindergarten</td>\n",
              "      <td>NaN</td>\n",
              "      <td>0.682675</td>\n",
              "      <td>NaN</td>\n",
              "    </tr>\n",
              "    <tr>\n",
              "      <th>2</th>\n",
              "      <td>69154</td>\n",
              "      <td>180205</td>\n",
              "      <td>0</td>\n",
              "      <td>Cash loans</td>\n",
              "      <td>F</td>\n",
              "      <td>1</td>\n",
              "      <td>90000.0</td>\n",
              "      <td>247500.0</td>\n",
              "      <td>8887.5</td>\n",
              "      <td>247500.0</td>\n",
              "      <td>...</td>\n",
              "      <td>-18384</td>\n",
              "      <td>-2826</td>\n",
              "      <td>-8226</td>\n",
              "      <td>-1930</td>\n",
              "      <td>SATURDAY</td>\n",
              "      <td>12</td>\n",
              "      <td>Self-employed</td>\n",
              "      <td>0.814700</td>\n",
              "      <td>0.686312</td>\n",
              "      <td>0.758393</td>\n",
              "    </tr>\n",
              "    <tr>\n",
              "      <th>3</th>\n",
              "      <td>222185</td>\n",
              "      <td>357381</td>\n",
              "      <td>0</td>\n",
              "      <td>Cash loans</td>\n",
              "      <td>M</td>\n",
              "      <td>2</td>\n",
              "      <td>112500.0</td>\n",
              "      <td>506889.0</td>\n",
              "      <td>24781.5</td>\n",
              "      <td>418500.0</td>\n",
              "      <td>...</td>\n",
              "      <td>-12170</td>\n",
              "      <td>-926</td>\n",
              "      <td>-916</td>\n",
              "      <td>-4048</td>\n",
              "      <td>THURSDAY</td>\n",
              "      <td>13</td>\n",
              "      <td>Other</td>\n",
              "      <td>0.399219</td>\n",
              "      <td>0.266520</td>\n",
              "      <td>0.058826</td>\n",
              "    </tr>\n",
              "    <tr>\n",
              "      <th>4</th>\n",
              "      <td>102590</td>\n",
              "      <td>219092</td>\n",
              "      <td>0</td>\n",
              "      <td>Cash loans</td>\n",
              "      <td>M</td>\n",
              "      <td>3</td>\n",
              "      <td>135000.0</td>\n",
              "      <td>871029.0</td>\n",
              "      <td>44604.0</td>\n",
              "      <td>765000.0</td>\n",
              "      <td>...</td>\n",
              "      <td>-17598</td>\n",
              "      <td>-2650</td>\n",
              "      <td>-1411</td>\n",
              "      <td>-1131</td>\n",
              "      <td>SATURDAY</td>\n",
              "      <td>7</td>\n",
              "      <td>Business Entity Type 3</td>\n",
              "      <td>NaN</td>\n",
              "      <td>0.145475</td>\n",
              "      <td>0.651260</td>\n",
              "    </tr>\n",
              "  </tbody>\n",
              "</table>\n",
              "<p>5 rows × 24 columns</p>\n",
              "</div>\n",
              "      <button class=\"colab-df-convert\" onclick=\"convertToInteractive('df-b2957a44-79aa-4d4a-be7e-c7893dc6714e')\"\n",
              "              title=\"Convert this dataframe to an interactive table.\"\n",
              "              style=\"display:none;\">\n",
              "        \n",
              "  <svg xmlns=\"http://www.w3.org/2000/svg\" height=\"24px\"viewBox=\"0 0 24 24\"\n",
              "       width=\"24px\">\n",
              "    <path d=\"M0 0h24v24H0V0z\" fill=\"none\"/>\n",
              "    <path d=\"M18.56 5.44l.94 2.06.94-2.06 2.06-.94-2.06-.94-.94-2.06-.94 2.06-2.06.94zm-11 1L8.5 8.5l.94-2.06 2.06-.94-2.06-.94L8.5 2.5l-.94 2.06-2.06.94zm10 10l.94 2.06.94-2.06 2.06-.94-2.06-.94-.94-2.06-.94 2.06-2.06.94z\"/><path d=\"M17.41 7.96l-1.37-1.37c-.4-.4-.92-.59-1.43-.59-.52 0-1.04.2-1.43.59L10.3 9.45l-7.72 7.72c-.78.78-.78 2.05 0 2.83L4 21.41c.39.39.9.59 1.41.59.51 0 1.02-.2 1.41-.59l7.78-7.78 2.81-2.81c.8-.78.8-2.07 0-2.86zM5.41 20L4 18.59l7.72-7.72 1.47 1.35L5.41 20z\"/>\n",
              "  </svg>\n",
              "      </button>\n",
              "      \n",
              "  <style>\n",
              "    .colab-df-container {\n",
              "      display:flex;\n",
              "      flex-wrap:wrap;\n",
              "      gap: 12px;\n",
              "    }\n",
              "\n",
              "    .colab-df-convert {\n",
              "      background-color: #E8F0FE;\n",
              "      border: none;\n",
              "      border-radius: 50%;\n",
              "      cursor: pointer;\n",
              "      display: none;\n",
              "      fill: #1967D2;\n",
              "      height: 32px;\n",
              "      padding: 0 0 0 0;\n",
              "      width: 32px;\n",
              "    }\n",
              "\n",
              "    .colab-df-convert:hover {\n",
              "      background-color: #E2EBFA;\n",
              "      box-shadow: 0px 1px 2px rgba(60, 64, 67, 0.3), 0px 1px 3px 1px rgba(60, 64, 67, 0.15);\n",
              "      fill: #174EA6;\n",
              "    }\n",
              "\n",
              "    [theme=dark] .colab-df-convert {\n",
              "      background-color: #3B4455;\n",
              "      fill: #D2E3FC;\n",
              "    }\n",
              "\n",
              "    [theme=dark] .colab-df-convert:hover {\n",
              "      background-color: #434B5C;\n",
              "      box-shadow: 0px 1px 3px 1px rgba(0, 0, 0, 0.15);\n",
              "      filter: drop-shadow(0px 1px 2px rgba(0, 0, 0, 0.3));\n",
              "      fill: #FFFFFF;\n",
              "    }\n",
              "  </style>\n",
              "\n",
              "      <script>\n",
              "        const buttonEl =\n",
              "          document.querySelector('#df-b2957a44-79aa-4d4a-be7e-c7893dc6714e button.colab-df-convert');\n",
              "        buttonEl.style.display =\n",
              "          google.colab.kernel.accessAllowed ? 'block' : 'none';\n",
              "\n",
              "        async function convertToInteractive(key) {\n",
              "          const element = document.querySelector('#df-b2957a44-79aa-4d4a-be7e-c7893dc6714e');\n",
              "          const dataTable =\n",
              "            await google.colab.kernel.invokeFunction('convertToInteractive',\n",
              "                                                     [key], {});\n",
              "          if (!dataTable) return;\n",
              "\n",
              "          const docLinkHtml = 'Like what you see? Visit the ' +\n",
              "            '<a target=\"_blank\" href=https://colab.research.google.com/notebooks/data_table.ipynb>data table notebook</a>'\n",
              "            + ' to learn more about interactive tables.';\n",
              "          element.innerHTML = '';\n",
              "          dataTable['output_type'] = 'display_data';\n",
              "          await google.colab.output.renderOutput(dataTable, element);\n",
              "          const docLink = document.createElement('div');\n",
              "          docLink.innerHTML = docLinkHtml;\n",
              "          element.appendChild(docLink);\n",
              "        }\n",
              "      </script>\n",
              "    </div>\n",
              "  </div>\n",
              "  "
            ]
          },
          "metadata": {},
          "execution_count": 12
        }
      ],
      "source": [
        "df = pd.read_csv('/content/gdrive/MyDrive/Credit scoring/precredit_test.csv')\n",
        "df.head()"
      ]
    },
    {
      "cell_type": "markdown",
      "metadata": {
        "id": "fHZ2WXhMy8-P"
      },
      "source": [
        "## **1. Value Encoding**  \n",
        "- This step is for preparing the dataset to be ready feature selected and modelled"
      ]
    },
    {
      "cell_type": "code",
      "execution_count": null,
      "metadata": {
        "colab": {
          "base_uri": "https://localhost:8080/",
          "height": 143
        },
        "id": "wcGPWevpy8-Q",
        "outputId": "b3848c69-aea8-4d8b-e550-9c8eed52be84"
      },
      "outputs": [
        {
          "output_type": "execute_result",
          "data": {
            "text/plain": [
              "   income_type_ord INCOME_TYPE\n",
              "2                1     Working\n",
              "3                1     Working\n",
              "6                1     Working"
            ],
            "text/html": [
              "\n",
              "  <div id=\"df-bcf48b3f-d6cc-49f1-aa39-3acee5bcad47\">\n",
              "    <div class=\"colab-df-container\">\n",
              "      <div>\n",
              "<style scoped>\n",
              "    .dataframe tbody tr th:only-of-type {\n",
              "        vertical-align: middle;\n",
              "    }\n",
              "\n",
              "    .dataframe tbody tr th {\n",
              "        vertical-align: top;\n",
              "    }\n",
              "\n",
              "    .dataframe thead th {\n",
              "        text-align: right;\n",
              "    }\n",
              "</style>\n",
              "<table border=\"1\" class=\"dataframe\">\n",
              "  <thead>\n",
              "    <tr style=\"text-align: right;\">\n",
              "      <th></th>\n",
              "      <th>income_type_ord</th>\n",
              "      <th>INCOME_TYPE</th>\n",
              "    </tr>\n",
              "  </thead>\n",
              "  <tbody>\n",
              "    <tr>\n",
              "      <th>2</th>\n",
              "      <td>1</td>\n",
              "      <td>Working</td>\n",
              "    </tr>\n",
              "    <tr>\n",
              "      <th>3</th>\n",
              "      <td>1</td>\n",
              "      <td>Working</td>\n",
              "    </tr>\n",
              "    <tr>\n",
              "      <th>6</th>\n",
              "      <td>1</td>\n",
              "      <td>Working</td>\n",
              "    </tr>\n",
              "  </tbody>\n",
              "</table>\n",
              "</div>\n",
              "      <button class=\"colab-df-convert\" onclick=\"convertToInteractive('df-bcf48b3f-d6cc-49f1-aa39-3acee5bcad47')\"\n",
              "              title=\"Convert this dataframe to an interactive table.\"\n",
              "              style=\"display:none;\">\n",
              "        \n",
              "  <svg xmlns=\"http://www.w3.org/2000/svg\" height=\"24px\"viewBox=\"0 0 24 24\"\n",
              "       width=\"24px\">\n",
              "    <path d=\"M0 0h24v24H0V0z\" fill=\"none\"/>\n",
              "    <path d=\"M18.56 5.44l.94 2.06.94-2.06 2.06-.94-2.06-.94-.94-2.06-.94 2.06-2.06.94zm-11 1L8.5 8.5l.94-2.06 2.06-.94-2.06-.94L8.5 2.5l-.94 2.06-2.06.94zm10 10l.94 2.06.94-2.06 2.06-.94-2.06-.94-.94-2.06-.94 2.06-2.06.94z\"/><path d=\"M17.41 7.96l-1.37-1.37c-.4-.4-.92-.59-1.43-.59-.52 0-1.04.2-1.43.59L10.3 9.45l-7.72 7.72c-.78.78-.78 2.05 0 2.83L4 21.41c.39.39.9.59 1.41.59.51 0 1.02-.2 1.41-.59l7.78-7.78 2.81-2.81c.8-.78.8-2.07 0-2.86zM5.41 20L4 18.59l7.72-7.72 1.47 1.35L5.41 20z\"/>\n",
              "  </svg>\n",
              "      </button>\n",
              "      \n",
              "  <style>\n",
              "    .colab-df-container {\n",
              "      display:flex;\n",
              "      flex-wrap:wrap;\n",
              "      gap: 12px;\n",
              "    }\n",
              "\n",
              "    .colab-df-convert {\n",
              "      background-color: #E8F0FE;\n",
              "      border: none;\n",
              "      border-radius: 50%;\n",
              "      cursor: pointer;\n",
              "      display: none;\n",
              "      fill: #1967D2;\n",
              "      height: 32px;\n",
              "      padding: 0 0 0 0;\n",
              "      width: 32px;\n",
              "    }\n",
              "\n",
              "    .colab-df-convert:hover {\n",
              "      background-color: #E2EBFA;\n",
              "      box-shadow: 0px 1px 2px rgba(60, 64, 67, 0.3), 0px 1px 3px 1px rgba(60, 64, 67, 0.15);\n",
              "      fill: #174EA6;\n",
              "    }\n",
              "\n",
              "    [theme=dark] .colab-df-convert {\n",
              "      background-color: #3B4455;\n",
              "      fill: #D2E3FC;\n",
              "    }\n",
              "\n",
              "    [theme=dark] .colab-df-convert:hover {\n",
              "      background-color: #434B5C;\n",
              "      box-shadow: 0px 1px 3px 1px rgba(0, 0, 0, 0.15);\n",
              "      filter: drop-shadow(0px 1px 2px rgba(0, 0, 0, 0.3));\n",
              "      fill: #FFFFFF;\n",
              "    }\n",
              "  </style>\n",
              "\n",
              "      <script>\n",
              "        const buttonEl =\n",
              "          document.querySelector('#df-bcf48b3f-d6cc-49f1-aa39-3acee5bcad47 button.colab-df-convert');\n",
              "        buttonEl.style.display =\n",
              "          google.colab.kernel.accessAllowed ? 'block' : 'none';\n",
              "\n",
              "        async function convertToInteractive(key) {\n",
              "          const element = document.querySelector('#df-bcf48b3f-d6cc-49f1-aa39-3acee5bcad47');\n",
              "          const dataTable =\n",
              "            await google.colab.kernel.invokeFunction('convertToInteractive',\n",
              "                                                     [key], {});\n",
              "          if (!dataTable) return;\n",
              "\n",
              "          const docLinkHtml = 'Like what you see? Visit the ' +\n",
              "            '<a target=\"_blank\" href=https://colab.research.google.com/notebooks/data_table.ipynb>data table notebook</a>'\n",
              "            + ' to learn more about interactive tables.';\n",
              "          element.innerHTML = '';\n",
              "          dataTable['output_type'] = 'display_data';\n",
              "          await google.colab.output.renderOutput(dataTable, element);\n",
              "          const docLink = document.createElement('div');\n",
              "          docLink.innerHTML = docLinkHtml;\n",
              "          element.appendChild(docLink);\n",
              "        }\n",
              "      </script>\n",
              "    </div>\n",
              "  </div>\n",
              "  "
            ]
          },
          "metadata": {},
          "execution_count": 13
        }
      ],
      "source": [
        "# INCOME TYPE\n",
        "df_new = df.copy()\n",
        "df_new = df_new.dropna(axis=0)\n",
        "incometype_dict = {'Working': 1, 'Commercial associate': 2, 'Pensioner': 3, \n",
        "                   'State servant': 4, 'Unemployed':5}\n",
        "                   \n",
        "df_new['income_type_ord'] = df['INCOME_TYPE'].map(incometype_dict)\n",
        "df_new[['income_type_ord', 'INCOME_TYPE']].head(3)"
      ]
    },
    {
      "cell_type": "code",
      "execution_count": null,
      "metadata": {
        "colab": {
          "base_uri": "https://localhost:8080/",
          "height": 143
        },
        "id": "p05IgGmey8-f",
        "outputId": "351eb9b9-434f-4b87-b1d3-d592fae56c84"
      },
      "outputs": [
        {
          "output_type": "execute_result",
          "data": {
            "text/plain": [
              "   education_ord                      EDUCATION\n",
              "2              1  Secondary / secondary special\n",
              "3              1  Secondary / secondary special\n",
              "6              1  Secondary / secondary special"
            ],
            "text/html": [
              "\n",
              "  <div id=\"df-18df19d1-5387-4f92-af80-8629c1d3c707\">\n",
              "    <div class=\"colab-df-container\">\n",
              "      <div>\n",
              "<style scoped>\n",
              "    .dataframe tbody tr th:only-of-type {\n",
              "        vertical-align: middle;\n",
              "    }\n",
              "\n",
              "    .dataframe tbody tr th {\n",
              "        vertical-align: top;\n",
              "    }\n",
              "\n",
              "    .dataframe thead th {\n",
              "        text-align: right;\n",
              "    }\n",
              "</style>\n",
              "<table border=\"1\" class=\"dataframe\">\n",
              "  <thead>\n",
              "    <tr style=\"text-align: right;\">\n",
              "      <th></th>\n",
              "      <th>education_ord</th>\n",
              "      <th>EDUCATION</th>\n",
              "    </tr>\n",
              "  </thead>\n",
              "  <tbody>\n",
              "    <tr>\n",
              "      <th>2</th>\n",
              "      <td>1</td>\n",
              "      <td>Secondary / secondary special</td>\n",
              "    </tr>\n",
              "    <tr>\n",
              "      <th>3</th>\n",
              "      <td>1</td>\n",
              "      <td>Secondary / secondary special</td>\n",
              "    </tr>\n",
              "    <tr>\n",
              "      <th>6</th>\n",
              "      <td>1</td>\n",
              "      <td>Secondary / secondary special</td>\n",
              "    </tr>\n",
              "  </tbody>\n",
              "</table>\n",
              "</div>\n",
              "      <button class=\"colab-df-convert\" onclick=\"convertToInteractive('df-18df19d1-5387-4f92-af80-8629c1d3c707')\"\n",
              "              title=\"Convert this dataframe to an interactive table.\"\n",
              "              style=\"display:none;\">\n",
              "        \n",
              "  <svg xmlns=\"http://www.w3.org/2000/svg\" height=\"24px\"viewBox=\"0 0 24 24\"\n",
              "       width=\"24px\">\n",
              "    <path d=\"M0 0h24v24H0V0z\" fill=\"none\"/>\n",
              "    <path d=\"M18.56 5.44l.94 2.06.94-2.06 2.06-.94-2.06-.94-.94-2.06-.94 2.06-2.06.94zm-11 1L8.5 8.5l.94-2.06 2.06-.94-2.06-.94L8.5 2.5l-.94 2.06-2.06.94zm10 10l.94 2.06.94-2.06 2.06-.94-2.06-.94-.94-2.06-.94 2.06-2.06.94z\"/><path d=\"M17.41 7.96l-1.37-1.37c-.4-.4-.92-.59-1.43-.59-.52 0-1.04.2-1.43.59L10.3 9.45l-7.72 7.72c-.78.78-.78 2.05 0 2.83L4 21.41c.39.39.9.59 1.41.59.51 0 1.02-.2 1.41-.59l7.78-7.78 2.81-2.81c.8-.78.8-2.07 0-2.86zM5.41 20L4 18.59l7.72-7.72 1.47 1.35L5.41 20z\"/>\n",
              "  </svg>\n",
              "      </button>\n",
              "      \n",
              "  <style>\n",
              "    .colab-df-container {\n",
              "      display:flex;\n",
              "      flex-wrap:wrap;\n",
              "      gap: 12px;\n",
              "    }\n",
              "\n",
              "    .colab-df-convert {\n",
              "      background-color: #E8F0FE;\n",
              "      border: none;\n",
              "      border-radius: 50%;\n",
              "      cursor: pointer;\n",
              "      display: none;\n",
              "      fill: #1967D2;\n",
              "      height: 32px;\n",
              "      padding: 0 0 0 0;\n",
              "      width: 32px;\n",
              "    }\n",
              "\n",
              "    .colab-df-convert:hover {\n",
              "      background-color: #E2EBFA;\n",
              "      box-shadow: 0px 1px 2px rgba(60, 64, 67, 0.3), 0px 1px 3px 1px rgba(60, 64, 67, 0.15);\n",
              "      fill: #174EA6;\n",
              "    }\n",
              "\n",
              "    [theme=dark] .colab-df-convert {\n",
              "      background-color: #3B4455;\n",
              "      fill: #D2E3FC;\n",
              "    }\n",
              "\n",
              "    [theme=dark] .colab-df-convert:hover {\n",
              "      background-color: #434B5C;\n",
              "      box-shadow: 0px 1px 3px 1px rgba(0, 0, 0, 0.15);\n",
              "      filter: drop-shadow(0px 1px 2px rgba(0, 0, 0, 0.3));\n",
              "      fill: #FFFFFF;\n",
              "    }\n",
              "  </style>\n",
              "\n",
              "      <script>\n",
              "        const buttonEl =\n",
              "          document.querySelector('#df-18df19d1-5387-4f92-af80-8629c1d3c707 button.colab-df-convert');\n",
              "        buttonEl.style.display =\n",
              "          google.colab.kernel.accessAllowed ? 'block' : 'none';\n",
              "\n",
              "        async function convertToInteractive(key) {\n",
              "          const element = document.querySelector('#df-18df19d1-5387-4f92-af80-8629c1d3c707');\n",
              "          const dataTable =\n",
              "            await google.colab.kernel.invokeFunction('convertToInteractive',\n",
              "                                                     [key], {});\n",
              "          if (!dataTable) return;\n",
              "\n",
              "          const docLinkHtml = 'Like what you see? Visit the ' +\n",
              "            '<a target=\"_blank\" href=https://colab.research.google.com/notebooks/data_table.ipynb>data table notebook</a>'\n",
              "            + ' to learn more about interactive tables.';\n",
              "          element.innerHTML = '';\n",
              "          dataTable['output_type'] = 'display_data';\n",
              "          await google.colab.output.renderOutput(dataTable, element);\n",
              "          const docLink = document.createElement('div');\n",
              "          docLink.innerHTML = docLinkHtml;\n",
              "          element.appendChild(docLink);\n",
              "        }\n",
              "      </script>\n",
              "    </div>\n",
              "  </div>\n",
              "  "
            ]
          },
          "metadata": {},
          "execution_count": 14
        }
      ],
      "source": [
        "### EDUCATION BACKGROUND\n",
        "education_dict = {'Secondary / secondary special': 1, 'Higher education': 2, 'Incomplete higher': 3, 'Lower secondary': 4, 'Academic degree': 5}\n",
        "df_new['education_ord'] = df['EDUCATION'].map(education_dict)\n",
        "df_new[['education_ord', 'EDUCATION']].head(3)"
      ]
    },
    {
      "cell_type": "markdown",
      "metadata": {
        "id": "BgysBmx9y8-h"
      },
      "source": [
        "## **2. Handling Imbalanced Target - SMOTE Oversampling**"
      ]
    },
    {
      "cell_type": "code",
      "execution_count": null,
      "metadata": {
        "tags": [],
        "id": "G-49iPmIy8-h"
      },
      "outputs": [],
      "source": [
        "x = df_new[['income_type_ord', 'education_ord', 'DAYS_AGE', 'DAYS_WORK', 'EXT_SCORE_1', 'EXT_SCORE_2', 'EXT_SCORE_3']]\n",
        "y = df_new['TARGET']\n",
        "x_train, x_test, y_train, y_test = train_test_split(x, y, test_size = 0.2, random_state = 0)"
      ]
    },
    {
      "cell_type": "code",
      "execution_count": null,
      "metadata": {
        "id": "pto4x5xvy8-p"
      },
      "outputs": [],
      "source": [
        "sm = SMOTE(random_state = 0)\n",
        "x_train_sm, y_train_sm = sm.fit_resample(x_train, y_train)"
      ]
    },
    {
      "cell_type": "markdown",
      "metadata": {
        "id": "3Ij59Npfy8-p"
      },
      "source": [
        "## **3. Prediction and Evaluation Metrix**"
      ]
    },
    {
      "cell_type": "code",
      "execution_count": null,
      "metadata": {
        "colab": {
          "base_uri": "https://localhost:8080/"
        },
        "id": "27VB9Slqy8-u",
        "outputId": "5788a996-9f43-492e-a99b-ab95989f65de"
      },
      "outputs": [
        {
          "output_type": "execute_result",
          "data": {
            "text/plain": [
              "(7866, 7)"
            ]
          },
          "metadata": {},
          "execution_count": 17
        }
      ],
      "source": [
        "x_train_sm.shape"
      ]
    },
    {
      "cell_type": "code",
      "execution_count": null,
      "metadata": {
        "colab": {
          "base_uri": "https://localhost:8080/"
        },
        "id": "Z7aZ-iBHy8-u",
        "outputId": "61e5fe1c-5f38-48ea-d915-3978cef96a44"
      },
      "outputs": [
        {
          "output_type": "execute_result",
          "data": {
            "text/plain": [
              "(7866,)"
            ]
          },
          "metadata": {},
          "execution_count": 18
        }
      ],
      "source": [
        "y_train_sm.shape"
      ]
    },
    {
      "cell_type": "markdown",
      "source": [
        "### **Neural Network**"
      ],
      "metadata": {
        "id": "gh1zodoOHvLd"
      }
    },
    {
      "cell_type": "code",
      "execution_count": null,
      "metadata": {
        "id": "CAV7ebfOy8-v"
      },
      "outputs": [],
      "source": [
        "from tensorflow.keras.layers import Dropout\n",
        "model = Sequential()\n",
        "# model.add(Dropout(0.2, input_shape=(7,)))\n",
        "model.add(Dense(60, input_dim=7, activation='sigmoid'))  # units = 12 => Positive integer, dimensionality of the output space.\n",
        "model.add(Dropout(0.4))\n",
        "model.add(Dense(30, activation='relu'))                  # units = 8\n",
        "model.add(Dropout(0.4))\n",
        "model.add(Dense(30, activation='sigmoid'))               # units = 8\n",
        "model.add(Dropout(0.4))\n",
        "model.add(Dense(1, activation='sigmoid'))                # units = 1"
      ]
    },
    {
      "cell_type": "code",
      "execution_count": null,
      "metadata": {
        "colab": {
          "base_uri": "https://localhost:8080/"
        },
        "id": "4_Y7lpk5y9An",
        "outputId": "96c0a28c-5444-4d32-8002-1d10023dcac9"
      },
      "outputs": [
        {
          "output_type": "stream",
          "name": "stdout",
          "text": [
            "Epoch 1/20\n",
            "1259/1259 [==============================] - 4s 3ms/step - loss: 0.7232 - accuracy: 0.5180 - val_loss: 0.6929 - val_accuracy: 0.4981\n",
            "Epoch 2/20\n",
            "1259/1259 [==============================] - 3s 3ms/step - loss: 0.7016 - accuracy: 0.4971 - val_loss: 0.6900 - val_accuracy: 0.5152\n",
            "Epoch 3/20\n",
            "1259/1259 [==============================] - 3s 2ms/step - loss: 0.6955 - accuracy: 0.5141 - val_loss: 0.6902 - val_accuracy: 0.5591\n",
            "Epoch 4/20\n",
            "1259/1259 [==============================] - 3s 3ms/step - loss: 0.6942 - accuracy: 0.5124 - val_loss: 0.6902 - val_accuracy: 0.5540\n",
            "Epoch 5/20\n",
            "1259/1259 [==============================] - 3s 3ms/step - loss: 0.6932 - accuracy: 0.5087 - val_loss: 0.6920 - val_accuracy: 0.5191\n",
            "Epoch 6/20\n",
            "1259/1259 [==============================] - 3s 3ms/step - loss: 0.6918 - accuracy: 0.5202 - val_loss: 0.6907 - val_accuracy: 0.5216\n",
            "Epoch 7/20\n",
            "1259/1259 [==============================] - 3s 2ms/step - loss: 0.6935 - accuracy: 0.5135 - val_loss: 0.6910 - val_accuracy: 0.5464\n",
            "Epoch 8/20\n",
            "1259/1259 [==============================] - 3s 2ms/step - loss: 0.6928 - accuracy: 0.5145 - val_loss: 0.6909 - val_accuracy: 0.5457\n",
            "Epoch 9/20\n",
            "1259/1259 [==============================] - 3s 3ms/step - loss: 0.6930 - accuracy: 0.5132 - val_loss: 0.6919 - val_accuracy: 0.4981\n",
            "Epoch 10/20\n",
            "1259/1259 [==============================] - 3s 3ms/step - loss: 0.6928 - accuracy: 0.5099 - val_loss: 0.6917 - val_accuracy: 0.4987\n",
            "Epoch 11/20\n",
            "1259/1259 [==============================] - 3s 2ms/step - loss: 0.6920 - accuracy: 0.5245 - val_loss: 0.6911 - val_accuracy: 0.5216\n",
            "Epoch 12/20\n",
            "1259/1259 [==============================] - 3s 2ms/step - loss: 0.6929 - accuracy: 0.5159 - val_loss: 0.6913 - val_accuracy: 0.5432\n",
            "Epoch 13/20\n",
            "1259/1259 [==============================] - 3s 2ms/step - loss: 0.6935 - accuracy: 0.5130 - val_loss: 0.6919 - val_accuracy: 0.5299\n",
            "Epoch 14/20\n",
            "1259/1259 [==============================] - 3s 2ms/step - loss: 0.6929 - accuracy: 0.5180 - val_loss: 0.6920 - val_accuracy: 0.5197\n",
            "Epoch 15/20\n",
            "1259/1259 [==============================] - 3s 3ms/step - loss: 0.6929 - accuracy: 0.5048 - val_loss: 0.6915 - val_accuracy: 0.5197\n",
            "Epoch 16/20\n",
            "1259/1259 [==============================] - 3s 3ms/step - loss: 0.6926 - accuracy: 0.5060 - val_loss: 0.6922 - val_accuracy: 0.5197\n",
            "Epoch 17/20\n",
            "1259/1259 [==============================] - 3s 2ms/step - loss: 0.6936 - accuracy: 0.5046 - val_loss: 0.6917 - val_accuracy: 0.5197\n",
            "Epoch 18/20\n",
            "1259/1259 [==============================] - 3s 3ms/step - loss: 0.6933 - accuracy: 0.5046 - val_loss: 0.6917 - val_accuracy: 0.5197\n",
            "Epoch 19/20\n",
            "1259/1259 [==============================] - 4s 3ms/step - loss: 0.6930 - accuracy: 0.5022 - val_loss: 0.6921 - val_accuracy: 0.5197\n",
            "Epoch 20/20\n",
            "1259/1259 [==============================] - 3s 3ms/step - loss: 0.6926 - accuracy: 0.5121 - val_loss: 0.6914 - val_accuracy: 0.5197\n",
            "197/197 [==============================] - 0s 2ms/step - loss: 0.6922 - accuracy: 0.5119\n"
          ]
        }
      ],
      "source": [
        "X_train, X_val, y_train, y_val = train_test_split(x_train_sm, y_train_sm, test_size = 0.2, random_state = 0)\n",
        "model.compile(loss='binary_crossentropy', optimizer='adam', metrics=['accuracy'])\n",
        "\n",
        "# fit the keras model on the dataset\n",
        "history = model.fit(X_train, y_train, epochs=20, batch_size=5, validation_data=(X_val,y_val))\n",
        "\n",
        "# evaluate the keras model\n",
        "accuracy = model.evaluate(X_train, y_train)"
      ]
    },
    {
      "cell_type": "code",
      "source": [
        "# Summarize history for accuracy\n",
        "plt.figure(figsize=(15,5))\n",
        "plt.plot(history.history['accuracy'])\n",
        "plt.plot(history.history['val_accuracy'])\n",
        "plt.title('Train accuracy')\n",
        "plt.ylabel('accuracy')\n",
        "plt.xlabel('epoch')\n",
        "plt.legend(['train', 'test'], loc='upper left')\n",
        "plt.grid()\n",
        "plt.show()\n",
        "\n",
        "# Summarize history for loss\n",
        "plt.figure(figsize=(15,5))\n",
        "plt.plot(history.history['loss'])\n",
        "plt.plot(history.history['val_loss'])\n",
        "plt.title('Train loss')\n",
        "plt.ylabel('loss')\n",
        "plt.xlabel('epoch')\n",
        "plt.legend(['train', 'test'], loc='upper left')\n",
        "plt.grid()\n",
        "plt.show()"
      ],
      "metadata": {
        "colab": {
          "base_uri": "https://localhost:8080/",
          "height": 683
        },
        "id": "Bt3Kk4pwCM1t",
        "outputId": "28cf6d81-27c6-4077-95c7-f765e23d4e80"
      },
      "execution_count": null,
      "outputs": [
        {
          "output_type": "display_data",
          "data": {
            "text/plain": [
              "<Figure size 1080x360 with 1 Axes>"
            ],
            "image/png": "[encoded data removed]"
          },
          "metadata": {
            "needs_background": "light"
          }
        },
        {
          "output_type": "display_data",
          "data": {
            "text/plain": [
              "<Figure size 1080x360 with 1 Axes>"
            ],
            "image/png": "[encoded data removed]"
          },
          "metadata": {
            "needs_background": "light"
          }
        }
      ]
    },
    {
      "cell_type": "code",
      "execution_count": null,
      "metadata": {
        "id": "XKV--WFCy9Ao",
        "outputId": "7952f3c7-036c-4a1c-dadf-cdcfb99ec5a4",
        "colab": {
          "base_uri": "https://localhost:8080/"
        }
      },
      "outputs": [
        {
          "output_type": "stream",
          "name": "stdout",
          "text": [
            "Model: \"sequential_6\"\n",
            "_________________________________________________________________\n",
            " Layer (type)                Output Shape              Param #   \n",
            "=================================================================\n",
            " dense_18 (Dense)            (None, 60)                480       \n",
            "                                                                 \n",
            " dropout_5 (Dropout)         (None, 60)                0         \n",
            "                                                                 \n",
            " dense_19 (Dense)            (None, 30)                1830      \n",
            "                                                                 \n",
            " dropout_6 (Dropout)         (None, 30)                0         \n",
            "                                                                 \n",
            " dense_20 (Dense)            (None, 30)                930       \n",
            "                                                                 \n",
            " dropout_7 (Dropout)         (None, 30)                0         \n",
            "                                                                 \n",
            " dense_21 (Dense)            (None, 1)                 31        \n",
            "                                                                 \n",
            "=================================================================\n",
            "Total params: 3,271\n",
            "Trainable params: 3,271\n",
            "Non-trainable params: 0\n",
            "_________________________________________________________________\n"
          ]
        }
      ],
      "source": [
        "model.summary()"
      ]
    },
    {
      "cell_type": "code",
      "execution_count": null,
      "metadata": {
        "id": "WybcaaTxy9Ap",
        "outputId": "f79df55d-a8b0-4ac6-e7d7-c86ad8e36870",
        "colab": {
          "base_uri": "https://localhost:8080/"
        }
      },
      "outputs": [
        {
          "output_type": "stream",
          "name": "stdout",
          "text": [
            "Accuracy: %.2f 0.5119199156761169\n",
            "loss 0.6922478079795837\n"
          ]
        }
      ],
      "source": [
        "print('Accuracy: %.2f' ,(accuracy[1]))\n",
        "print(\"loss\",accuracy[0])"
      ]
    },
    {
      "cell_type": "code",
      "execution_count": null,
      "metadata": {
        "colab": {
          "base_uri": "https://localhost:8080/"
        },
        "id": "7sRuF8cjjYvK",
        "outputId": "c4be7759-7da2-4f0e-bbc5-b9a07796d9f3"
      },
      "outputs": [
        {
          "output_type": "stream",
          "name": "stdout",
          "text": [
            "AUC: 0.50\n",
            "[0 0 0 ... 0 0 0]\n",
            "<class 'numpy.ndarray'>\n",
            "(1058,)\n",
            "0    1058\n",
            "dtype: int64\n"
          ]
        }
      ],
      "source": [
        "predictions = np.argmax(model.predict(x_test), axis=-1)\n",
        "auc = roc_auc_score(y_test, predictions)\n",
        "print('AUC: %.2f' % auc)\n",
        "print(predictions)\n",
        "print(type(predictions))\n",
        "print(predictions.shape)\n",
        "# predictions = predictions.tolist()\n",
        "print(pd.DataFrame(predictions).value_counts())"
      ]
    },
    {
      "cell_type": "code",
      "execution_count": null,
      "metadata": {
        "colab": {
          "base_uri": "https://localhost:8080/",
          "height": 296
        },
        "id": "sdB_3z4jjYvL",
        "outputId": "d0652f04-ea58-4eea-c658-0db450908b9e"
      },
      "outputs": [
        {
          "output_type": "execute_result",
          "data": {
            "text/plain": [
              "<matplotlib.axes._subplots.AxesSubplot at 0x7f0f6a27d310>"
            ]
          },
          "metadata": {},
          "execution_count": 62
        },
        {
          "output_type": "display_data",
          "data": {
            "text/plain": [
              "<Figure size 432x288 with 2 Axes>"
            ],
            "image/png": "[encoded data removed]"
          },
          "metadata": {
            "needs_background": "light"
          }
        }
      ],
      "source": [
        "confusion_matrix = pd.crosstab(y_test, predictions, rownames=['Actual'], colnames=['Predicted'])\n",
        "sns.heatmap(confusion_matrix,annot=True)"
      ]
    },
    {
      "cell_type": "code",
      "execution_count": null,
      "metadata": {
        "colab": {
          "base_uri": "https://localhost:8080/"
        },
        "id": "nfHf73y5jYvL",
        "outputId": "f5f8e4c5-4514-4cc0-843a-2ec84adb7917"
      },
      "outputs": [
        {
          "output_type": "stream",
          "name": "stdout",
          "text": [
            "246/246 [==============================] - 0s 2ms/step - loss: 0.6921 - accuracy: 0.5135\n"
          ]
        }
      ],
      "source": [
        "accuracy = model.evaluate(x_train_sm, y_train_sm)"
      ]
    },
    {
      "cell_type": "code",
      "execution_count": null,
      "metadata": {
        "colab": {
          "base_uri": "https://localhost:8080/"
        },
        "id": "cWAgtt8qjYvL",
        "outputId": "cdfa7573-9cfc-413a-a352-484045db1444"
      },
      "outputs": [
        {
          "output_type": "stream",
          "name": "stdout",
          "text": [
            "              precision    recall  f1-score   support\n",
            "\n",
            "           0       0.93      1.00      0.96       983\n",
            "           1       0.00      0.00      0.00        75\n",
            "\n",
            "    accuracy                           0.93      1058\n",
            "   macro avg       0.46      0.50      0.48      1058\n",
            "weighted avg       0.86      0.93      0.89      1058\n",
            "\n"
          ]
        }
      ],
      "source": [
        "print(classification_report(y_test, predictions))"
      ]
    },
    {
      "cell_type": "code",
      "execution_count": null,
      "metadata": {
        "colab": {
          "base_uri": "https://localhost:8080/",
          "height": 206
        },
        "id": "DLuosVZhjYvL",
        "outputId": "f0b689eb-f637-4979-cf43-f11f38d66210"
      },
      "outputs": [
        {
          "output_type": "execute_result",
          "data": {
            "text/plain": [
              "               Score (%)\n",
              "accuracy       92.911153\n",
              "recall          0.000000\n",
              "precision       0.000000\n",
              "roc_auc_score  50.000000\n",
              "f1_score        0.000000"
            ],
            "text/html": [
              "\n",
              "  <div id=\"df-916979b7-e82a-4d05-854f-2e8468089360\">\n",
              "    <div class=\"colab-df-container\">\n",
              "      <div>\n",
              "<style scoped>\n",
              "    .dataframe tbody tr th:only-of-type {\n",
              "        vertical-align: middle;\n",
              "    }\n",
              "\n",
              "    .dataframe tbody tr th {\n",
              "        vertical-align: top;\n",
              "    }\n",
              "\n",
              "    .dataframe thead th {\n",
              "        text-align: right;\n",
              "    }\n",
              "</style>\n",
              "<table border=\"1\" class=\"dataframe\">\n",
              "  <thead>\n",
              "    <tr style=\"text-align: right;\">\n",
              "      <th></th>\n",
              "      <th>Score (%)</th>\n",
              "    </tr>\n",
              "  </thead>\n",
              "  <tbody>\n",
              "    <tr>\n",
              "      <th>accuracy</th>\n",
              "      <td>92.911153</td>\n",
              "    </tr>\n",
              "    <tr>\n",
              "      <th>recall</th>\n",
              "      <td>0.000000</td>\n",
              "    </tr>\n",
              "    <tr>\n",
              "      <th>precision</th>\n",
              "      <td>0.000000</td>\n",
              "    </tr>\n",
              "    <tr>\n",
              "      <th>roc_auc_score</th>\n",
              "      <td>50.000000</td>\n",
              "    </tr>\n",
              "    <tr>\n",
              "      <th>f1_score</th>\n",
              "      <td>0.000000</td>\n",
              "    </tr>\n",
              "  </tbody>\n",
              "</table>\n",
              "</div>\n",
              "      <button class=\"colab-df-convert\" onclick=\"convertToInteractive('df-916979b7-e82a-4d05-854f-2e8468089360')\"\n",
              "              title=\"Convert this dataframe to an interactive table.\"\n",
              "              style=\"display:none;\">\n",
              "        \n",
              "  <svg xmlns=\"http://www.w3.org/2000/svg\" height=\"24px\"viewBox=\"0 0 24 24\"\n",
              "       width=\"24px\">\n",
              "    <path d=\"M0 0h24v24H0V0z\" fill=\"none\"/>\n",
              "    <path d=\"M18.56 5.44l.94 2.06.94-2.06 2.06-.94-2.06-.94-.94-2.06-.94 2.06-2.06.94zm-11 1L8.5 8.5l.94-2.06 2.06-.94-2.06-.94L8.5 2.5l-.94 2.06-2.06.94zm10 10l.94 2.06.94-2.06 2.06-.94-2.06-.94-.94-2.06-.94 2.06-2.06.94z\"/><path d=\"M17.41 7.96l-1.37-1.37c-.4-.4-.92-.59-1.43-.59-.52 0-1.04.2-1.43.59L10.3 9.45l-7.72 7.72c-.78.78-.78 2.05 0 2.83L4 21.41c.39.39.9.59 1.41.59.51 0 1.02-.2 1.41-.59l7.78-7.78 2.81-2.81c.8-.78.8-2.07 0-2.86zM5.41 20L4 18.59l7.72-7.72 1.47 1.35L5.41 20z\"/>\n",
              "  </svg>\n",
              "      </button>\n",
              "      \n",
              "  <style>\n",
              "    .colab-df-container {\n",
              "      display:flex;\n",
              "      flex-wrap:wrap;\n",
              "      gap: 12px;\n",
              "    }\n",
              "\n",
              "    .colab-df-convert {\n",
              "      background-color: #E8F0FE;\n",
              "      border: none;\n",
              "      border-radius: 50%;\n",
              "      cursor: pointer;\n",
              "      display: none;\n",
              "      fill: #1967D2;\n",
              "      height: 32px;\n",
              "      padding: 0 0 0 0;\n",
              "      width: 32px;\n",
              "    }\n",
              "\n",
              "    .colab-df-convert:hover {\n",
              "      background-color: #E2EBFA;\n",
              "      box-shadow: 0px 1px 2px rgba(60, 64, 67, 0.3), 0px 1px 3px 1px rgba(60, 64, 67, 0.15);\n",
              "      fill: #174EA6;\n",
              "    }\n",
              "\n",
              "    [theme=dark] .colab-df-convert {\n",
              "      background-color: #3B4455;\n",
              "      fill: #D2E3FC;\n",
              "    }\n",
              "\n",
              "    [theme=dark] .colab-df-convert:hover {\n",
              "      background-color: #434B5C;\n",
              "      box-shadow: 0px 1px 3px 1px rgba(0, 0, 0, 0.15);\n",
              "      filter: drop-shadow(0px 1px 2px rgba(0, 0, 0, 0.3));\n",
              "      fill: #FFFFFF;\n",
              "    }\n",
              "  </style>\n",
              "\n",
              "      <script>\n",
              "        const buttonEl =\n",
              "          document.querySelector('#df-916979b7-e82a-4d05-854f-2e8468089360 button.colab-df-convert');\n",
              "        buttonEl.style.display =\n",
              "          google.colab.kernel.accessAllowed ? 'block' : 'none';\n",
              "\n",
              "        async function convertToInteractive(key) {\n",
              "          const element = document.querySelector('#df-916979b7-e82a-4d05-854f-2e8468089360');\n",
              "          const dataTable =\n",
              "            await google.colab.kernel.invokeFunction('convertToInteractive',\n",
              "                                                     [key], {});\n",
              "          if (!dataTable) return;\n",
              "\n",
              "          const docLinkHtml = 'Like what you see? Visit the ' +\n",
              "            '<a target=\"_blank\" href=https://colab.research.google.com/notebooks/data_table.ipynb>data table notebook</a>'\n",
              "            + ' to learn more about interactive tables.';\n",
              "          element.innerHTML = '';\n",
              "          dataTable['output_type'] = 'display_data';\n",
              "          await google.colab.output.renderOutput(dataTable, element);\n",
              "          const docLink = document.createElement('div');\n",
              "          docLink.innerHTML = docLinkHtml;\n",
              "          element.appendChild(docLink);\n",
              "        }\n",
              "      </script>\n",
              "    </div>\n",
              "  </div>\n",
              "  "
            ]
          },
          "metadata": {},
          "execution_count": 65
        }
      ],
      "source": [
        "pd.DataFrame(data = [accuracy_score(y_test, predictions)*100, \n",
        "                     recall_score(y_test, predictions)*100, \n",
        "                     precision_score(y_test, predictions)*100, \n",
        "                     roc_auc_score(y_test, predictions)*100, \n",
        "                     f1_score(y_test, predictions)*100],\n",
        "            index = ['accuracy', 'recall', 'precision', 'roc_auc_score', 'f1_score'],\n",
        "             columns = ['Score (%)']\n",
        "            )"
      ]
    },
    {
      "cell_type": "markdown",
      "source": [
        "### **Random Forrest**"
      ],
      "metadata": {
        "id": "Lm_W-Klr_tYl"
      }
    },
    {
      "source": [
        "#### **Random Forrest Without Tuning**"
      ],
      "cell_type": "markdown",
      "metadata": {
        "id": "cC4uICjyy9Aq"
      }
    },
    {
      "cell_type": "code",
      "execution_count": null,
      "metadata": {
        "id": "QbrsgK_jy9Aq",
        "outputId": "e42693a1-35cb-47ab-eb1e-8a59413fb1b3",
        "colab": {
          "base_uri": "https://localhost:8080/"
        }
      },
      "outputs": [
        {
          "output_type": "execute_result",
          "data": {
            "text/plain": [
              "RandomForestClassifier()"
            ]
          },
          "metadata": {},
          "execution_count": 19
        }
      ],
      "source": [
        "model_RFC = RandomForestClassifier()\n",
        "model_RFC.fit(x_train_sm, y_train_sm)"
      ]
    },
    {
      "cell_type": "code",
      "execution_count": null,
      "metadata": {
        "id": "jyLBG9wQy9Ar",
        "outputId": "2528b2f1-0af8-4f10-e000-e59fc5a8be39",
        "colab": {
          "base_uri": "https://localhost:8080/"
        }
      },
      "outputs": [
        {
          "output_type": "execute_result",
          "data": {
            "text/plain": [
              "array([1, 0, 0, ..., 0, 0, 0])"
            ]
          },
          "metadata": {},
          "execution_count": 20
        }
      ],
      "source": [
        "y_pred_RFC = model_RFC.predict(x_test)\n",
        "y_pred_RFC"
      ]
    },
    {
      "cell_type": "code",
      "execution_count": null,
      "metadata": {
        "id": "IuE1KgLSy9Ar",
        "outputId": "f58d90ea-1219-4f46-9410-c3713058af37",
        "colab": {
          "base_uri": "https://localhost:8080/",
          "height": 334
        }
      },
      "outputs": [
        {
          "output_type": "display_data",
          "data": {
            "text/plain": [
              "<Figure size 576x360 with 2 Axes>"
            ],
            "image/png": "[encoded data removed]"
          },
          "metadata": {
            "needs_background": "light"
          }
        }
      ],
      "source": [
        "f, ax = plt.subplots(figsize=(8,5))\n",
        "sns.heatmap(confusion_matrix(y_test, y_pred_RFC), annot=True, fmt='.0f', ax=ax)\n",
        "plt.xlabel('y prediksi')\n",
        "plt.ylabel('y aktual')\n",
        "plt.show()"
      ]
    },
    {
      "cell_type": "code",
      "execution_count": null,
      "metadata": {
        "id": "DWCoxD7hy9As",
        "outputId": "ff2b46bf-b2b9-462e-bd09-a28d8bfb3a4e",
        "colab": {
          "base_uri": "https://localhost:8080/"
        }
      },
      "outputs": [
        {
          "output_type": "stream",
          "name": "stdout",
          "text": [
            "              precision    recall  f1-score   support\n",
            "\n",
            "           0       0.94      0.84      0.89       983\n",
            "           1       0.14      0.35      0.20        75\n",
            "\n",
            "    accuracy                           0.80      1058\n",
            "   macro avg       0.54      0.59      0.54      1058\n",
            "weighted avg       0.89      0.80      0.84      1058\n",
            "\n"
          ]
        }
      ],
      "source": [
        "# confusion matrix report\n",
        "print(classification_report(y_test, y_pred_RFC))"
      ]
    },
    {
      "cell_type": "code",
      "execution_count": null,
      "metadata": {
        "id": "5FfvUUWSy9At",
        "outputId": "2268a50d-e998-42e2-a5aa-aa547ddc2147",
        "colab": {
          "base_uri": "https://localhost:8080/",
          "height": 206
        }
      },
      "outputs": [
        {
          "output_type": "execute_result",
          "data": {
            "text/plain": [
              "               Score (%)\n",
              "accuracy       80.434783\n",
              "recall         34.666667\n",
              "precision      14.130435\n",
              "roc_auc_score  59.296711\n",
              "f1_score       20.077220"
            ],
            "text/html": [
              "\n",
              "  <div id=\"df-f08142fc-fba5-449d-ab04-f7bd746c0904\">\n",
              "    <div class=\"colab-df-container\">\n",
              "      <div>\n",
              "<style scoped>\n",
              "    .dataframe tbody tr th:only-of-type {\n",
              "        vertical-align: middle;\n",
              "    }\n",
              "\n",
              "    .dataframe tbody tr th {\n",
              "        vertical-align: top;\n",
              "    }\n",
              "\n",
              "    .dataframe thead th {\n",
              "        text-align: right;\n",
              "    }\n",
              "</style>\n",
              "<table border=\"1\" class=\"dataframe\">\n",
              "  <thead>\n",
              "    <tr style=\"text-align: right;\">\n",
              "      <th></th>\n",
              "      <th>Score (%)</th>\n",
              "    </tr>\n",
              "  </thead>\n",
              "  <tbody>\n",
              "    <tr>\n",
              "      <th>accuracy</th>\n",
              "      <td>80.434783</td>\n",
              "    </tr>\n",
              "    <tr>\n",
              "      <th>recall</th>\n",
              "      <td>34.666667</td>\n",
              "    </tr>\n",
              "    <tr>\n",
              "      <th>precision</th>\n",
              "      <td>14.130435</td>\n",
              "    </tr>\n",
              "    <tr>\n",
              "      <th>roc_auc_score</th>\n",
              "      <td>59.296711</td>\n",
              "    </tr>\n",
              "    <tr>\n",
              "      <th>f1_score</th>\n",
              "      <td>20.077220</td>\n",
              "    </tr>\n",
              "  </tbody>\n",
              "</table>\n",
              "</div>\n",
              "      <button class=\"colab-df-convert\" onclick=\"convertToInteractive('df-f08142fc-fba5-449d-ab04-f7bd746c0904')\"\n",
              "              title=\"Convert this dataframe to an interactive table.\"\n",
              "              style=\"display:none;\">\n",
              "        \n",
              "  <svg xmlns=\"http://www.w3.org/2000/svg\" height=\"24px\"viewBox=\"0 0 24 24\"\n",
              "       width=\"24px\">\n",
              "    <path d=\"M0 0h24v24H0V0z\" fill=\"none\"/>\n",
              "    <path d=\"M18.56 5.44l.94 2.06.94-2.06 2.06-.94-2.06-.94-.94-2.06-.94 2.06-2.06.94zm-11 1L8.5 8.5l.94-2.06 2.06-.94-2.06-.94L8.5 2.5l-.94 2.06-2.06.94zm10 10l.94 2.06.94-2.06 2.06-.94-2.06-.94-.94-2.06-.94 2.06-2.06.94z\"/><path d=\"M17.41 7.96l-1.37-1.37c-.4-.4-.92-.59-1.43-.59-.52 0-1.04.2-1.43.59L10.3 9.45l-7.72 7.72c-.78.78-.78 2.05 0 2.83L4 21.41c.39.39.9.59 1.41.59.51 0 1.02-.2 1.41-.59l7.78-7.78 2.81-2.81c.8-.78.8-2.07 0-2.86zM5.41 20L4 18.59l7.72-7.72 1.47 1.35L5.41 20z\"/>\n",
              "  </svg>\n",
              "      </button>\n",
              "      \n",
              "  <style>\n",
              "    .colab-df-container {\n",
              "      display:flex;\n",
              "      flex-wrap:wrap;\n",
              "      gap: 12px;\n",
              "    }\n",
              "\n",
              "    .colab-df-convert {\n",
              "      background-color: #E8F0FE;\n",
              "      border: none;\n",
              "      border-radius: 50%;\n",
              "      cursor: pointer;\n",
              "      display: none;\n",
              "      fill: #1967D2;\n",
              "      height: 32px;\n",
              "      padding: 0 0 0 0;\n",
              "      width: 32px;\n",
              "    }\n",
              "\n",
              "    .colab-df-convert:hover {\n",
              "      background-color: #E2EBFA;\n",
              "      box-shadow: 0px 1px 2px rgba(60, 64, 67, 0.3), 0px 1px 3px 1px rgba(60, 64, 67, 0.15);\n",
              "      fill: #174EA6;\n",
              "    }\n",
              "\n",
              "    [theme=dark] .colab-df-convert {\n",
              "      background-color: #3B4455;\n",
              "      fill: #D2E3FC;\n",
              "    }\n",
              "\n",
              "    [theme=dark] .colab-df-convert:hover {\n",
              "      background-color: #434B5C;\n",
              "      box-shadow: 0px 1px 3px 1px rgba(0, 0, 0, 0.15);\n",
              "      filter: drop-shadow(0px 1px 2px rgba(0, 0, 0, 0.3));\n",
              "      fill: #FFFFFF;\n",
              "    }\n",
              "  </style>\n",
              "\n",
              "      <script>\n",
              "        const buttonEl =\n",
              "          document.querySelector('#df-f08142fc-fba5-449d-ab04-f7bd746c0904 button.colab-df-convert');\n",
              "        buttonEl.style.display =\n",
              "          google.colab.kernel.accessAllowed ? 'block' : 'none';\n",
              "\n",
              "        async function convertToInteractive(key) {\n",
              "          const element = document.querySelector('#df-f08142fc-fba5-449d-ab04-f7bd746c0904');\n",
              "          const dataTable =\n",
              "            await google.colab.kernel.invokeFunction('convertToInteractive',\n",
              "                                                     [key], {});\n",
              "          if (!dataTable) return;\n",
              "\n",
              "          const docLinkHtml = 'Like what you see? Visit the ' +\n",
              "            '<a target=\"_blank\" href=https://colab.research.google.com/notebooks/data_table.ipynb>data table notebook</a>'\n",
              "            + ' to learn more about interactive tables.';\n",
              "          element.innerHTML = '';\n",
              "          dataTable['output_type'] = 'display_data';\n",
              "          await google.colab.output.renderOutput(dataTable, element);\n",
              "          const docLink = document.createElement('div');\n",
              "          docLink.innerHTML = docLinkHtml;\n",
              "          element.appendChild(docLink);\n",
              "        }\n",
              "      </script>\n",
              "    </div>\n",
              "  </div>\n",
              "  "
            ]
          },
          "metadata": {},
          "execution_count": 23
        }
      ],
      "source": [
        "pd.DataFrame(data = [accuracy_score(y_test, y_pred_RFC)*100, \n",
        "                     recall_score(y_test, y_pred_RFC)*100, \n",
        "                     precision_score(y_test, y_pred_RFC)*100, \n",
        "                     roc_auc_score(y_test, y_pred_RFC)*100, \n",
        "                     f1_score(y_test, y_pred_RFC)*100],\n",
        "             index = ['accuracy', 'recall', 'precision', 'roc_auc_score', 'f1_score'],\n",
        "             columns = ['Score (%)']\n",
        "            )"
      ]
    },
    {
      "cell_type": "markdown",
      "metadata": {
        "id": "tDg6rr4py9At"
      },
      "source": [
        "## **Conclusion**\n",
        "From the Evaluation Metrics, we understand that Neural Network with Oversampling Technique Algorithm (SMOTE) has better accuracy (92%) for the train dataset than Logistic Regression, Random Forrest and Decision Tree in both after tuned or before tuned. However, Evaluation Metrics show that Random Forrest algorithm has better accuracy, which is 80.24% in Test Dataset than Neural Network."
      ]
    },
    {
      "cell_type": "code",
      "execution_count": null,
      "metadata": {
        "id": "WZFq2sbGy9Av"
      },
      "outputs": [],
      "source": [
        ""
      ]
    },
    {
      "cell_type": "markdown",
      "metadata": {
        "id": "mhVKKnedy9Az"
      },
      "source": [
        "<hr>"
      ]
    },
    {
      "cell_type": "markdown",
      "metadata": {
        "id": "WMdPQBR5y9Az"
      },
      "source": [
        ""
      ]
    }
  ]
}